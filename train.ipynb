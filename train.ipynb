{
 "metadata": {
  "language_info": {
   "codemirror_mode": {
    "name": "ipython",
    "version": 3
   },
   "file_extension": ".py",
   "mimetype": "text/x-python",
   "name": "python",
   "nbconvert_exporter": "python",
   "pygments_lexer": "ipython3",
   "version": "3.8.5-final"
  },
  "orig_nbformat": 2,
  "kernelspec": {
   "name": "python3",
   "display_name": "Python 3.8.5 64-bit ('metaflow': conda)",
   "metadata": {
    "interpreter": {
     "hash": "814ba462121a587853fe8e53b70f9ed373d04441f40f1f5f723d1eed8e1ca596"
    }
   }
  }
 },
 "nbformat": 4,
 "nbformat_minor": 2,
 "cells": [
  {
   "source": [
    "# Import Libraries\n",
    "Apart from standard libraries, I am one custom module \"custom_transformations\"."
   ],
   "cell_type": "markdown",
   "metadata": {}
  },
  {
   "cell_type": "code",
   "execution_count": 18,
   "metadata": {},
   "outputs": [],
   "source": [
    "\n",
    "import numpy as np\n",
    "import pandas as pd\n",
    "from baikal import make_step, Step, Input, Model\n",
    "from baikal.steps import Stack\n",
    "from sklearn.preprocessing import FunctionTransformer, OneHotEncoder\n",
    "from sklearn.linear_model import ElasticNet, LinearRegression\n",
    "from xgboost import XGBRegressor\n",
    "\n",
    "from sklearn_pandas import gen_features\n",
    "from sklearn.impute import MissingIndicator, SimpleImputer\n",
    "from category_encoders import TargetEncoder\n",
    "\n",
    "from custom_transformations import ConcatDataFrame, DataFrameMapperStep, CatBoostRegressorStep"
   ]
  },
  {
   "source": [
    "# Define DAG"
   ],
   "cell_type": "markdown",
   "metadata": {}
  },
  {
   "cell_type": "code",
   "execution_count": 19,
   "metadata": {},
   "outputs": [],
   "source": [
    "data = pd.read_csv('data/train.csv')"
   ]
  },
  {
   "cell_type": "code",
   "execution_count": 20,
   "metadata": {},
   "outputs": [],
   "source": [
    "# these are the categorical columns in the dataset\n",
    "CATEGORICAL_COLUMNS = [\n",
    "    'KitchenQual', 'MSSubClass', 'MSZoning', 'Street', 'Alley', 'LotShape', 'LandContour', \n",
    "    'Utilities', 'LotConfig', 'LandSlope', 'Neighborhood', 'Condition1', 'Condition2', 'BldgType', \n",
    "    'HouseStyle', 'RoofStyle', 'RoofMatl', 'Exterior1st', 'Exterior2nd', 'MasVnrType', 'ExterQual', \n",
    "    'ExterCond', 'Foundation', 'BsmtQual', 'BsmtCond', 'BsmtExposure', 'BsmtFinType1', 'BsmtFinType2', \n",
    "    'Heating', 'HeatingQC', 'CentralAir', 'Functional', 'FireplaceQu', 'GarageType', \n",
    "    'GarageFinish', 'GarageQual', 'GarageCond', 'PavedDrive', 'PoolQC', 'Fence', 'MiscFeature', 'SaleType', \n",
    "    'SaleCondition',\n",
    "    'OverallQual', 'OverallCond',\n",
    "]\n",
    "\n",
    "# these columns will be terated as a numerical columns\n",
    "NUMERICAL_COLUMNS = [\n",
    "    'LotFrontage', 'LotArea', 'YearBuilt', \n",
    "    'YearRemodAdd', 'MasVnrArea', 'BsmtFinSF1', 'BsmtFinSF2', 'BsmtUnfSF', 'TotalBsmtSF', \n",
    "    '1stFlrSF', '2ndFlrSF', 'LowQualFinSF', 'GrLivArea', 'BsmtFullBath', 'BsmtHalfBath', \n",
    "    'FullBath', 'HalfBath', 'BedroomAbvGr', 'KitchenAbvGr', 'TotRmsAbvGrd', 'Fireplaces', \n",
    "    'GarageYrBlt', 'GarageCars', 'GarageArea', 'WoodDeckSF', 'OpenPorchSF', 'EnclosedPorch', \n",
    "    '3SsnPorch', 'ScreenPorch', 'PoolArea', 'MiscVal', 'MoSold', 'YrSold'\n",
    "]\n",
    "\n",
    "\n",
    "# These columns have missing values and the one for which we will add missing indicator variable\n",
    "MISSING_INDICATOR = [\n",
    "    'LotFrontage', 'Alley', 'MasVnrType', 'MasVnrArea', 'BsmtQual', 'BsmtCond', 'BsmtExposure', 'BsmtFinType1', \n",
    "    'BsmtFinType2', 'Electrical', 'FireplaceQu', 'GarageType', 'GarageYrBlt', 'GarageFinish', 'GarageQual', \n",
    "    'GarageCond', 'PoolQC', 'Fence', 'MiscFeature'\n",
    "]\n",
    "\n",
    "## Categorical Columns for which we want One Hot Encoding\n",
    "ONEHOT_COLUMNS = [\n",
    "    'MSZoning', 'Street', 'Alley', 'LotShape', 'LandContour', 'Utilities', 'LotConfig', 'LandSlope', \n",
    "    'Condition1', 'Condition2', 'BldgType', 'HouseStyle', 'RoofStyle', 'RoofMatl', 'MasVnrType', 'ExterQual', \n",
    "    'ExterCond', 'Foundation', 'BsmtQual', 'BsmtCond', 'BsmtExposure', 'BsmtFinType1', 'BsmtFinType2', \n",
    "    'Heating', 'HeatingQC', 'CentralAir', 'Electrical', 'KitchenQual', 'Functional', 'FireplaceQu', \n",
    "    'GarageType', 'GarageFinish', 'GarageQual', 'GarageCond', 'PavedDrive', 'PoolQC', 'Fence', 'MiscFeature', \n",
    "    'SaleType', 'SaleCondition'\n",
    "]\n",
    "\n",
    "## Categorical Columns for which we want to have target encoding\n",
    "TARGET_COLUMNS = [\n",
    "    'MSSubClass', 'Neighborhood', 'Exterior1st', 'Exterior2nd'\n",
    "]\n",
    "\n",
    "## Columns for that require log transformations\n",
    "LOG_COLUMNS = [\n",
    "    'LotFrontage', 'LotArea', 'MasVnrArea', 'BsmtFinSF1', 'BsmtFinSF2', 'BsmtUnfSF', 'TotalBsmtSF',\n",
    "    '1stFlrSF', '2ndFlrSF', 'LowQualFinSF', 'GrLivArea', 'GarageArea', 'WoodDeckSF', 'OpenPorchSF', 'EnclosedPorch', \n",
    "    '3SsnPorch', 'ScreenPorch', 'PoolArea', 'MiscVal'\n",
    "]"
   ]
  },
  {
   "cell_type": "code",
   "execution_count": 21,
   "metadata": {
    "tags": []
   },
   "outputs": [
    {
     "output_type": "stream",
     "name": "stdout",
     "text": [
      "Learning rate set to 0.5\n0:\tlearn: 57389.6871258\ttotal: 7.07ms\tremaining: 63.7ms\n1:\tlearn: 44136.9296879\ttotal: 12.7ms\tremaining: 50.9ms\n2:\tlearn: 36475.8236139\ttotal: 18.6ms\tremaining: 43.5ms\n3:\tlearn: 32041.5481119\ttotal: 24.6ms\tremaining: 36.9ms\n4:\tlearn: 28632.3640828\ttotal: 30ms\tremaining: 30ms\n5:\tlearn: 26945.3742191\ttotal: 35.3ms\tremaining: 23.5ms\n6:\tlearn: 26466.6534465\ttotal: 40.8ms\tremaining: 17.5ms\n7:\tlearn: 25441.1499243\ttotal: 46ms\tremaining: 11.5ms\n8:\tlearn: 24424.4891571\ttotal: 51.3ms\tremaining: 5.7ms\n9:\tlearn: 23421.2284352\ttotal: 56.7ms\tremaining: 0us\n"
     ]
    }
   ],
   "source": [
    "# Define Steps \n",
    "ElasticNetStep = make_step(ElasticNet, class_name='ElasticNet')\n",
    "ConcatStep = make_step(ct.ConcatDataFrame, class_name='Concat')\n",
    "XGBRegressorStep = make_step(XGBRegressor, class_name='XGBRegressor')\n",
    "LinearRegressionStep = make_step(LinearRegression, class_name='LinearRegression')\n",
    "\n",
    "# Define sklearn-pandas transformations. Here I am using gen_features utility to \n",
    "# define transformations for individual columns. \n",
    "baseProcessing = (\n",
    "    gen_features(\n",
    "        columns=[[x] for x in MISSING_INDICATOR],\n",
    "        classes = [\n",
    "            {'class': MissingIndicator, 'features': 'all', 'sparse': False, 'error_on_new': False}\n",
    "        ], \n",
    "        prefix = 'na_'\n",
    "    ) +\n",
    "    gen_features(\n",
    "        columns=LOG_COLUMNS,\n",
    "        classes=[\n",
    "            {'class': FunctionTransformer, 'func': lambda x: x.astype(np.float).reshape((-1, 1))},\n",
    "            {'class': SimpleImputer, 'strategy': 'mean'},\n",
    "            {'class': FunctionTransformer, 'func': np.log1p}            \n",
    "        ]\n",
    "    ) +\n",
    "    gen_features(\n",
    "        columns=list(set(NUMERICAL_COLUMNS) - set(LOG_COLUMNS)),\n",
    "        classes=[\n",
    "            {'class': FunctionTransformer, 'func': lambda x: x.astype(np.float).reshape((-1, 1))},\n",
    "            {'class': SimpleImputer, 'strategy': 'mean'}\n",
    "        ],\n",
    "    ) + \n",
    "    [\n",
    "        # constructing new features -- age of the house\n",
    "        (\n",
    "            ['YrSold', 'YearBuilt'], \n",
    "            [\n",
    "                FunctionTransformer(func=lambda x: np.clip(x[:,0] - x[:,1], 0, 1000)), \n",
    "                FunctionTransformer(np.log1p)\n",
    "            ], \n",
    "            {'alias': 'age'}\n",
    "        ),\n",
    "\n",
    "        # constructing new feature -- remodeling age\n",
    "        (\n",
    "            ['YrSold', 'YearRemodAdd'], \n",
    "            [\n",
    "                FunctionTransformer(func=lambda x: np.clip(x[:,0] - x[:,1], 0, 1000)), \n",
    "                FunctionTransformer(np.log1p)\n",
    "            ], \n",
    "            {'alias': 'remodel_age'}\n",
    "        ),\n",
    "\n",
    "        # new feature -- total surface area\n",
    "        (\n",
    "            ['1stFlrSF', '2ndFlrSF', 'TotalBsmtSF'], \n",
    "            [\n",
    "                FunctionTransformer(lambda x: np.nansum(x, axis=1)), \n",
    "                FunctionTransformer(np.log1p)\n",
    "            ], \n",
    "            {'alias': 'numerical_TotalArea'}\n",
    "        )\n",
    "    ]\n",
    ")\n",
    "\n",
    "# Since CatBoost model can handle categorical data, we don't need to encode categorical variables\n",
    "# we will simply impute missing values and let CatBoost model handle categorical data. \n",
    "catModelPreprocessing = gen_features(\n",
    "    columns=CATEGORICAL_COLUMNS,\n",
    "    classes = [\n",
    "        {'class': FunctionTransformer, 'func': lambda x: x.astype(np.object).reshape(-1, 1)},\n",
    "        {'class': SimpleImputer, 'strategy': 'most_frequent'}\n",
    "    ],\n",
    ")\n",
    "\n",
    "# for regression and XGBoost, we will need to encode categorical variables ourselfs. \n",
    "# Depending on the cardinality of the variable, I am either using one hot encoding or target encoding. \n",
    "regressionModelProcessing = (\n",
    "     gen_features(\n",
    "        columns=[[x] for x in ONEHOT_COLUMNS],\n",
    "        classes = [\n",
    "            {'class': OneHotEncoder, 'handle_unknown': 'ignore', 'sparse': False}\n",
    "        ]\n",
    "    ) + \n",
    "    gen_features(\n",
    "        columns=[[x] for x in TARGET_COLUMNS],\n",
    "        classes = [\n",
    "            {'class': TargetEncoder},\n",
    "            {'class': SimpleImputer, 'strategy': 'mean'},\n",
    "        ]     \n",
    "    )\n",
    ")\n",
    "    \n",
    "# Define DAG \n",
    "x = Input(name=\"x\")\n",
    "y = Input(name='y')\n",
    "\n",
    "# Define feature transformations\n",
    "d0 = DataFrameMapperStep(baseProcessing, df_out=True, name='BasePreprocess')(x, y)\n",
    "d1 = DataFrameMapperStep(regressionModelProcessing, df_out=True, name='RegressionModelPreprocess')(x, y)\n",
    "d2 = DataFrameMapperStep(catModelPreprocessing, df_out=True, name='CatModelPreprocess')(x, y)\n",
    "\n",
    "# Consolidate features for catboost and elasticnet\n",
    "regressionFeatures = ConcatStep(name='RegressionFeatures')([d0, d1])\n",
    "catFeatures = ConcatStep(name='CatBoostFeatures')([d0, d2])\n",
    "\n",
    "# Generate predictions using three different algorithms.\n",
    "m1 = ElasticNetStep(name='ElasticNet')(regressionFeatures, y)\n",
    "m2 = XGBRegressorStep(name='XGBoost')(regressionFeatures, y)\n",
    "m3 = CatBoostRegressorStep(name='CatBoost', cat_features=CATEGORICAL_COLUMNS, iterations=10)(catFeatures, y)\n",
    "\n",
    "# combine predictions from the three models\n",
    "combinedPredictions= Stack(name='CombinePredictions')([m1, m3])\n",
    "\n",
    "# construct an ensemble model\n",
    "ensembleModel = LinearRegressionStep()(combinedPredictions, y)\n",
    "model = Model(x, ensembleModel, y)\n",
    "model.fit(data, data['SalePrice'])\n",
    "\n",
    "# serialize model\n",
    "import cloudpickle\n",
    "with open('resources/model.pkl', 'wb+') as fp:\n",
    "    cloudpickle.dump(model, fp)"
   ]
  },
  {
   "cell_type": "code",
   "execution_count": 22,
   "metadata": {},
   "outputs": [
    {
     "output_type": "execute_result",
     "data": {
      "text/plain": [
       "<IPython.core.display.SVG object>"
      ],
      "image/svg+xml": "<svg xmlns=\"http://www.w3.org/2000/svg\" xmlns:xlink=\"http://www.w3.org/1999/xlink\" width=\"747pt\" height=\"531pt\" viewBox=\"0.00 0.00 746.53 531.00\">\n<g id=\"graph0\" class=\"graph\" transform=\"scale(1 1) rotate(0) translate(4 527)\">\n<title>G</title>\n<polygon fill=\"white\" stroke=\"transparent\" points=\"-4,4 -4,-527 742.53,-527 742.53,4 -4,4\"/>\n<!-- Model_2:0/LinearRegression_2:0 -->\n<g id=\"node1\" class=\"node\">\n<title>Model_2:0/LinearRegression_2:0</title>\n<polygon fill=\"none\" stroke=\"black\" points=\"676.53,-88 540.53,-88 540.53,-52 676.53,-52 676.53,-88\"/>\n<text text-anchor=\"middle\" x=\"608.53\" y=\"-66.3\" font-family=\"Times,serif\" font-size=\"14.00\">LinearRegression_2:0</text>\n</g>\n<!-- Model_2:0/LinearRegression_2:0/0 -->\n<g id=\"node12\" class=\"node\">\n<title>Model_2:0/LinearRegression_2:0/0</title>\n<polygon fill=\"none\" stroke=\"white\" points=\"609.03,-1 608.03,-1 608.03,0 609.03,0 609.03,-1\"/>\n<text text-anchor=\"middle\" x=\"608.53\" y=\"-0.2\" font-family=\"Times,serif\" font-size=\"1.00\" fill=\"white\">Model_2:0/LinearRegression_2:0/0</text>\n</g>\n<!-- Model_2:0/LinearRegression_2:0&#45;&gt;Model_2:0/LinearRegression_2:0/0 -->\n<g id=\"edge19\" class=\"edge\">\n<title>Model_2:0/LinearRegression_2:0-&gt;Model_2:0/LinearRegression_2:0/0</title>\n<path fill=\"none\" stroke=\"black\" d=\"M608.53,-51.84C608.53,-39.03 608.53,-21.96 608.53,-11.23\"/>\n<polygon fill=\"black\" stroke=\"black\" points=\"612.03,-11.09 608.53,-1.09 605.03,-11.09 612.03,-11.09\"/>\n<text text-anchor=\"middle\" x=\"673.53\" y=\"-22.8\" font-family=\"Times,serif\" font-size=\"14.00\">LinearRegression_2:0/0</text>\n</g>\n<!-- Model_2:0/CombinePredictions:0 -->\n<g id=\"node2\" class=\"node\">\n<title>Model_2:0/CombinePredictions:0</title>\n<polygon fill=\"none\" stroke=\"black\" points=\"595.53,-175 457.53,-175 457.53,-139 595.53,-139 595.53,-175\"/>\n<text text-anchor=\"middle\" x=\"526.53\" y=\"-153.3\" font-family=\"Times,serif\" font-size=\"14.00\">CombinePredictions:0</text>\n</g>\n<!-- Model_2:0/CombinePredictions:0&#45;&gt;Model_2:0/LinearRegression_2:0 -->\n<g id=\"edge1\" class=\"edge\">\n<title>Model_2:0/CombinePredictions:0-&gt;Model_2:0/LinearRegression_2:0</title>\n<path fill=\"none\" stroke=\"black\" d=\"M531.55,-138.77C535.24,-128.37 541.09,-115.37 549.53,-106 553.56,-101.52 558.31,-97.45 563.32,-93.79\"/>\n<polygon fill=\"black\" stroke=\"black\" points=\"565.57,-96.5 571.95,-88.03 561.69,-90.67 565.57,-96.5\"/>\n<text text-anchor=\"middle\" x=\"616.03\" y=\"-109.8\" font-family=\"Times,serif\" font-size=\"14.00\">CombinePredictions:0/0</text>\n</g>\n<!-- Model_2:0/ElasticNet:0 -->\n<g id=\"node3\" class=\"node\">\n<title>Model_2:0/ElasticNet:0</title>\n<polygon fill=\"none\" stroke=\"black\" points=\"568.03,-262 485.03,-262 485.03,-226 568.03,-226 568.03,-262\"/>\n<text text-anchor=\"middle\" x=\"526.53\" y=\"-240.3\" font-family=\"Times,serif\" font-size=\"14.00\">ElasticNet:0</text>\n</g>\n<!-- Model_2:0/ElasticNet:0&#45;&gt;Model_2:0/CombinePredictions:0 -->\n<g id=\"edge2\" class=\"edge\">\n<title>Model_2:0/ElasticNet:0-&gt;Model_2:0/CombinePredictions:0</title>\n<path fill=\"none\" stroke=\"black\" d=\"M526.53,-225.8C526.53,-214.16 526.53,-198.55 526.53,-185.24\"/>\n<polygon fill=\"black\" stroke=\"black\" points=\"530.03,-185.18 526.53,-175.18 523.03,-185.18 530.03,-185.18\"/>\n<text text-anchor=\"middle\" x=\"565.53\" y=\"-196.8\" font-family=\"Times,serif\" font-size=\"14.00\">ElasticNet:0/0</text>\n</g>\n<!-- Model_2:0/RegressionFeatures:0 -->\n<g id=\"node4\" class=\"node\">\n<title>Model_2:0/RegressionFeatures:0</title>\n<polygon fill=\"none\" stroke=\"black\" points=\"583.03,-349 450.03,-349 450.03,-313 583.03,-313 583.03,-349\"/>\n<text text-anchor=\"middle\" x=\"516.53\" y=\"-327.3\" font-family=\"Times,serif\" font-size=\"14.00\">RegressionFeatures:0</text>\n</g>\n<!-- Model_2:0/RegressionFeatures:0&#45;&gt;Model_2:0/ElasticNet:0 -->\n<g id=\"edge3\" class=\"edge\">\n<title>Model_2:0/RegressionFeatures:0-&gt;Model_2:0/ElasticNet:0</title>\n<path fill=\"none\" stroke=\"black\" d=\"M515.89,-312.8C515.78,-303.12 516.05,-290.84 517.53,-280 517.88,-277.44 518.35,-274.81 518.89,-272.18\"/>\n<polygon fill=\"black\" stroke=\"black\" points=\"522.33,-272.83 521.24,-262.29 515.52,-271.21 522.33,-272.83\"/>\n<text text-anchor=\"middle\" x=\"581.03\" y=\"-283.8\" font-family=\"Times,serif\" font-size=\"14.00\">RegressionFeatures:0/0</text>\n</g>\n<!-- Model_2:0/BasePreprocess:0 -->\n<g id=\"node5\" class=\"node\">\n<title>Model_2:0/BasePreprocess:0</title>\n<polygon fill=\"none\" stroke=\"black\" points=\"349.53,-436 237.53,-436 237.53,-400 349.53,-400 349.53,-436\"/>\n<text text-anchor=\"middle\" x=\"293.53\" y=\"-414.3\" font-family=\"Times,serif\" font-size=\"14.00\">BasePreprocess:0</text>\n</g>\n<!-- Model_2:0/BasePreprocess:0&#45;&gt;Model_2:0/RegressionFeatures:0 -->\n<g id=\"edge4\" class=\"edge\">\n<title>Model_2:0/BasePreprocess:0-&gt;Model_2:0/RegressionFeatures:0</title>\n<path fill=\"none\" stroke=\"black\" d=\"M288.38,-399.78C286.32,-389.12 285.97,-375.84 293.53,-367 312.24,-345.12 382.93,-336.83 439.77,-333.73\"/>\n<polygon fill=\"black\" stroke=\"black\" points=\"440.03,-337.22 449.85,-333.23 439.68,-330.23 440.03,-337.22\"/>\n<text text-anchor=\"middle\" x=\"346.53\" y=\"-370.8\" font-family=\"Times,serif\" font-size=\"14.00\">BasePreprocess:0/0</text>\n</g>\n<!-- Model_2:0/CatBoostFeatures:0 -->\n<g id=\"node10\" class=\"node\">\n<title>Model_2:0/CatBoostFeatures:0</title>\n<polygon fill=\"none\" stroke=\"black\" points=\"225.03,-349 102.03,-349 102.03,-313 225.03,-313 225.03,-349\"/>\n<text text-anchor=\"middle\" x=\"163.53\" y=\"-327.3\" font-family=\"Times,serif\" font-size=\"14.00\">CatBoostFeatures:0</text>\n</g>\n<!-- Model_2:0/BasePreprocess:0&#45;&gt;Model_2:0/CatBoostFeatures:0 -->\n<g id=\"edge5\" class=\"edge\">\n<title>Model_2:0/BasePreprocess:0-&gt;Model_2:0/CatBoostFeatures:0</title>\n<path fill=\"none\" stroke=\"black\" d=\"M237.34,-402.15C202.85,-392.97 165.15,-382.79 164.53,-382 159.62,-375.72 158.11,-367.52 158.18,-359.57\"/>\n<polygon fill=\"black\" stroke=\"black\" points=\"161.68,-359.73 159.04,-349.47 154.71,-359.14 161.68,-359.73\"/>\n<text text-anchor=\"middle\" x=\"217.53\" y=\"-370.8\" font-family=\"Times,serif\" font-size=\"14.00\">BasePreprocess:0/0</text>\n</g>\n<!-- Model_2:0/x -->\n<g id=\"node6\" class=\"node\">\n<title>Model_2:0/x</title>\n<polygon fill=\"none\" stroke=\"green\" points=\"266.53,-499.44 293.53,-487 320.53,-499.44 320.5,-519.56 266.55,-519.56 266.53,-499.44\"/>\n<text text-anchor=\"middle\" x=\"293.53\" y=\"-501.3\" font-family=\"Times,serif\" font-size=\"14.00\">x</text>\n</g>\n<!-- Model_2:0/x&#45;&gt;Model_2:0/BasePreprocess:0 -->\n<g id=\"edge6\" class=\"edge\">\n<title>Model_2:0/x-&gt;Model_2:0/BasePreprocess:0</title>\n<path fill=\"none\" stroke=\"black\" d=\"M293.53,-486.8C293.53,-475.16 293.53,-459.55 293.53,-446.24\"/>\n<polygon fill=\"black\" stroke=\"black\" points=\"297.03,-446.18 293.53,-436.18 290.03,-446.18 297.03,-446.18\"/>\n<text text-anchor=\"middle\" x=\"297.03\" y=\"-457.8\" font-family=\"Times,serif\" font-size=\"14.00\">x</text>\n</g>\n<!-- Model_2:0/RegressionModelPreprocess:0 -->\n<g id=\"node8\" class=\"node\">\n<title>Model_2:0/RegressionModelPreprocess:0</title>\n<polygon fill=\"none\" stroke=\"black\" points=\"630.53,-436 448.53,-436 448.53,-400 630.53,-400 630.53,-436\"/>\n<text text-anchor=\"middle\" x=\"539.53\" y=\"-414.3\" font-family=\"Times,serif\" font-size=\"14.00\">RegressionModelPreprocess:0</text>\n</g>\n<!-- Model_2:0/x&#45;&gt;Model_2:0/RegressionModelPreprocess:0 -->\n<g id=\"edge7\" class=\"edge\">\n<title>Model_2:0/x-&gt;Model_2:0/RegressionModelPreprocess:0</title>\n<path fill=\"none\" stroke=\"black\" d=\"M314.93,-496.61C351.46,-483.98 427.09,-457.85 480.47,-439.41\"/>\n<polygon fill=\"black\" stroke=\"black\" points=\"481.85,-442.63 490.16,-436.06 479.56,-436.02 481.85,-442.63\"/>\n<text text-anchor=\"middle\" x=\"434.03\" y=\"-457.8\" font-family=\"Times,serif\" font-size=\"14.00\">x</text>\n</g>\n<!-- Model_2:0/CatModelPreprocess:0 -->\n<g id=\"node11\" class=\"node\">\n<title>Model_2:0/CatModelPreprocess:0</title>\n<polygon fill=\"none\" stroke=\"black\" points=\"219.53,-436 79.53,-436 79.53,-400 219.53,-400 219.53,-436\"/>\n<text text-anchor=\"middle\" x=\"149.53\" y=\"-414.3\" font-family=\"Times,serif\" font-size=\"14.00\">CatModelPreprocess:0</text>\n</g>\n<!-- Model_2:0/x&#45;&gt;Model_2:0/CatModelPreprocess:0 -->\n<g id=\"edge8\" class=\"edge\">\n<title>Model_2:0/x-&gt;Model_2:0/CatModelPreprocess:0</title>\n<path fill=\"none\" stroke=\"black\" d=\"M277.29,-494.41C255.56,-481.59 216.37,-458.45 187.1,-441.18\"/>\n<polygon fill=\"black\" stroke=\"black\" points=\"188.76,-438.09 178.37,-436.02 185.2,-444.12 188.76,-438.09\"/>\n<text text-anchor=\"middle\" x=\"233.03\" y=\"-457.8\" font-family=\"Times,serif\" font-size=\"14.00\">x</text>\n</g>\n<!-- Model_2:0/y -->\n<g id=\"node7\" class=\"node\">\n<title>Model_2:0/y</title>\n<polygon fill=\"none\" stroke=\"green\" points=\"431.53,-499.44 458.53,-487 485.53,-499.44 485.5,-519.56 431.55,-519.56 431.53,-499.44\"/>\n<text text-anchor=\"middle\" x=\"458.53\" y=\"-501.3\" font-family=\"Times,serif\" font-size=\"14.00\">y</text>\n</g>\n<!-- Model_2:0/y&#45;&gt;Model_2:0/LinearRegression_2:0 -->\n<g id=\"edge9\" class=\"edge\">\n<title>Model_2:0/y-&gt;Model_2:0/LinearRegression_2:0</title>\n<path fill=\"none\" stroke=\"orange\" d=\"M485.76,-501.81C519.89,-498.29 579.59,-489.56 626.53,-469 661.55,-453.66 696.53,-457.23 696.53,-419 696.53,-419 696.53,-419 696.53,-156 696.53,-132.92 697.41,-123.64 682.53,-106 678.5,-101.22 673.67,-97.06 668.44,-93.43\"/>\n<polygon fill=\"orange\" stroke=\"orange\" points=\"670.28,-90.45 659.93,-88.16 666.59,-96.41 670.28,-90.45\"/>\n<text text-anchor=\"middle\" x=\"700.03\" y=\"-283.8\" font-family=\"Times,serif\" font-size=\"14.00\">y</text>\n</g>\n<!-- Model_2:0/y&#45;&gt;Model_2:0/ElasticNet:0 -->\n<g id=\"edge10\" class=\"edge\">\n<title>Model_2:0/y-&gt;Model_2:0/ElasticNet:0</title>\n<path fill=\"none\" stroke=\"orange\" d=\"M485.54,-502.73C526.58,-499.19 603.66,-485.87 639.53,-436 680.03,-379.68 686.02,-335.59 644.53,-280 629.26,-259.55 602.56,-250.56 578.41,-246.79\"/>\n<polygon fill=\"orange\" stroke=\"orange\" points=\"578.62,-243.29 568.25,-245.48 577.72,-250.23 578.62,-243.29\"/>\n<text text-anchor=\"middle\" x=\"675.03\" y=\"-370.8\" font-family=\"Times,serif\" font-size=\"14.00\">y</text>\n</g>\n<!-- Model_2:0/y&#45;&gt;Model_2:0/BasePreprocess:0 -->\n<g id=\"edge11\" class=\"edge\">\n<title>Model_2:0/y-&gt;Model_2:0/BasePreprocess:0</title>\n<path fill=\"none\" stroke=\"orange\" d=\"M436.22,-497.01C417.41,-490.74 390.04,-480.74 367.53,-469 352.78,-461.31 337.41,-451.29 324.51,-442.24\"/>\n<polygon fill=\"orange\" stroke=\"orange\" points=\"326.19,-439.14 316.02,-436.17 322.12,-444.83 326.19,-439.14\"/>\n<text text-anchor=\"middle\" x=\"371.03\" y=\"-457.8\" font-family=\"Times,serif\" font-size=\"14.00\">y</text>\n</g>\n<!-- Model_2:0/y&#45;&gt;Model_2:0/RegressionModelPreprocess:0 -->\n<g id=\"edge12\" class=\"edge\">\n<title>Model_2:0/y-&gt;Model_2:0/RegressionModelPreprocess:0</title>\n<path fill=\"none\" stroke=\"orange\" d=\"M469.79,-492.18C481.67,-479.71 500.74,-459.71 515.93,-443.76\"/>\n<polygon fill=\"orange\" stroke=\"orange\" points=\"518.67,-445.96 523.03,-436.31 513.6,-441.13 518.67,-445.96\"/>\n<text text-anchor=\"middle\" x=\"507.03\" y=\"-457.8\" font-family=\"Times,serif\" font-size=\"14.00\">y</text>\n</g>\n<!-- Model_2:0/CatBoost:0 -->\n<g id=\"node9\" class=\"node\">\n<title>Model_2:0/CatBoost:0</title>\n<polygon fill=\"none\" stroke=\"black\" points=\"460.03,-262 383.03,-262 383.03,-226 460.03,-226 460.03,-262\"/>\n<text text-anchor=\"middle\" x=\"421.53\" y=\"-240.3\" font-family=\"Times,serif\" font-size=\"14.00\">CatBoost:0</text>\n</g>\n<!-- Model_2:0/y&#45;&gt;Model_2:0/CatBoost:0 -->\n<g id=\"edge13\" class=\"edge\">\n<title>Model_2:0/y-&gt;Model_2:0/CatBoost:0</title>\n<path fill=\"none\" stroke=\"orange\" d=\"M453.52,-489.06C449.14,-475.4 442.97,-454.56 439.53,-436 428.81,-378.17 424.32,-309.25 422.56,-272.05\"/>\n<polygon fill=\"orange\" stroke=\"orange\" points=\"426.05,-271.84 422.11,-262 419.06,-272.15 426.05,-271.84\"/>\n<text text-anchor=\"middle\" x=\"434.03\" y=\"-370.8\" font-family=\"Times,serif\" font-size=\"14.00\">y</text>\n</g>\n<!-- Model_2:0/y&#45;&gt;Model_2:0/CatModelPreprocess:0 -->\n<g id=\"edge14\" class=\"edge\">\n<title>Model_2:0/y-&gt;Model_2:0/CatModelPreprocess:0</title>\n<path fill=\"none\" stroke=\"orange\" d=\"M432.47,-498.68C406.21,-492.91 364.77,-482.65 330.53,-469 317.41,-463.77 315.75,-458.95 302.53,-454 295.1,-451.22 262.74,-443.72 229.69,-436.37\"/>\n<polygon fill=\"orange\" stroke=\"orange\" points=\"230.42,-432.95 219.9,-434.21 228.91,-439.79 230.42,-432.95\"/>\n<text text-anchor=\"middle\" x=\"334.03\" y=\"-457.8\" font-family=\"Times,serif\" font-size=\"14.00\">y</text>\n</g>\n<!-- Model_2:0/RegressionModelPreprocess:0&#45;&gt;Model_2:0/RegressionFeatures:0 -->\n<g id=\"edge15\" class=\"edge\">\n<title>Model_2:0/RegressionModelPreprocess:0-&gt;Model_2:0/RegressionFeatures:0</title>\n<path fill=\"none\" stroke=\"black\" d=\"M479.76,-399.9C472.15,-395.28 465.36,-389.42 460.53,-382 454.02,-372 459.33,-362.76 468.83,-355.01\"/>\n<polygon fill=\"black\" stroke=\"black\" points=\"471.03,-357.75 477.2,-349.14 467.01,-352.02 471.03,-357.75\"/>\n<text text-anchor=\"middle\" x=\"548.53\" y=\"-370.8\" font-family=\"Times,serif\" font-size=\"14.00\">RegressionModelPreprocess:0/0</text>\n</g>\n<!-- Model_2:0/CatBoost:0&#45;&gt;Model_2:0/CombinePredictions:0 -->\n<g id=\"edge16\" class=\"edge\">\n<title>Model_2:0/CatBoost:0-&gt;Model_2:0/CombinePredictions:0</title>\n<path fill=\"none\" stroke=\"black\" d=\"M428.23,-225.92C433.1,-215.33 440.58,-202.05 450.53,-193 455.92,-188.09 462.12,-183.76 468.6,-179.98\"/>\n<polygon fill=\"black\" stroke=\"black\" points=\"470.43,-182.97 477.57,-175.14 467.1,-176.81 470.43,-182.97\"/>\n<text text-anchor=\"middle\" x=\"486.53\" y=\"-196.8\" font-family=\"Times,serif\" font-size=\"14.00\">CatBoost:0/0</text>\n</g>\n<!-- Model_2:0/CatBoostFeatures:0&#45;&gt;Model_2:0/CatBoost:0 -->\n<g id=\"edge17\" class=\"edge\">\n<title>Model_2:0/CatBoostFeatures:0-&gt;Model_2:0/CatBoost:0</title>\n<path fill=\"none\" stroke=\"black\" d=\"M203.09,-312.9C227.69,-302.62 260.14,-289.69 289.53,-280 316.74,-271.03 347.68,-262.73 372.76,-256.46\"/>\n<polygon fill=\"black\" stroke=\"black\" points=\"373.89,-259.79 382.76,-253.99 372.22,-252.99 373.89,-259.79\"/>\n<text text-anchor=\"middle\" x=\"348.53\" y=\"-283.8\" font-family=\"Times,serif\" font-size=\"14.00\">CatBoostFeatures:0/0</text>\n</g>\n<!-- Model_2:0/CatModelPreprocess:0&#45;&gt;Model_2:0/CatBoostFeatures:0 -->\n<g id=\"edge18\" class=\"edge\">\n<title>Model_2:0/CatModelPreprocess:0-&gt;Model_2:0/CatBoostFeatures:0</title>\n<path fill=\"none\" stroke=\"black\" d=\"M79.22,-413.78C32.06,-408.93 -17.41,-396.86 6.53,-367 17.54,-353.26 55.82,-344.56 91.82,-339.27\"/>\n<polygon fill=\"black\" stroke=\"black\" points=\"92.47,-342.72 101.89,-337.87 91.5,-335.78 92.47,-342.72\"/>\n<text text-anchor=\"middle\" x=\"74.03\" y=\"-370.8\" font-family=\"Times,serif\" font-size=\"14.00\">CatModelPreprocess:0/0</text>\n</g>\n</g>\n</svg>"
     },
     "metadata": {},
     "execution_count": 22
    }
   ],
   "source": [
    "from baikal.plot import plot_model\n",
    "from IPython.display import SVG\n",
    "plot_model(model, filename='resources/model.svg')\n",
    "SVG('resources/model.svg')"
   ]
  }
 ]
}